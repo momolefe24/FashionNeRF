{
 "cells": [
  {
   "cell_type": "code",
   "execution_count": 1,
   "id": "0b1734f0-46a3-4184-84a3-6d9d2689b78e",
   "metadata": {},
   "outputs": [
    {
     "name": "stdout",
     "output_type": "stream",
     "text": [
      "hi\n"
     ]
    }
   ],
   "source": [
    "print(\"hi\")"
   ]
  },
  {
   "cell_type": "code",
   "execution_count": 2,
   "id": "8f2937ef-0e44-4deb-a272-6f64d7a1cd2e",
   "metadata": {},
   "outputs": [
    {
     "name": "stderr",
     "output_type": "stream",
     "text": [
      "ERROR:root:/mnt/d/Playground/Research/Synthesising Virtual Fashion Try-On with Neural Radiance Fields/Results does not exist.\n",
      "ERROR:root:/mnt/d/Playground/Research/Synthesising Virtual Fashion Try-On with Neural Radiance Fields/Dataset does not exist.\n"
     ]
    },
    {
     "name": "stdout",
     "output_type": "stream",
     "text": [
      "config:  /mnt/d/Playground/Research/Synthesising Virtual Fashion Try-On with Neural Radiance Fields/FashionNeRF\n"
     ]
    },
    {
     "name": "stderr",
     "output_type": "stream",
     "text": [
      "/home/molefe/anaconda3/envs/FashionNeRF/lib/python3.9/site-packages/tqdm/auto.py:22: TqdmWarning: IProgress not found. Please update jupyter and ipywidgets. See https://ipywidgets.readthedocs.io/en/stable/user_install.html\n",
      "  from .autonotebook import tqdm as notebook_tqdm\n"
     ]
    },
    {
     "data": {
      "text/plain": [
       "device(type='cuda')"
      ]
     },
     "execution_count": 2,
     "metadata": {},
     "output_type": "execute_result"
    }
   ],
   "source": [
    "from config import *\n",
    "from datasets import FashionDataset, FashionPipeline\n",
    "from utils import *\n",
    "from model import *\n",
    "import torch\n",
    "import matplotlib.pyplot as plts\n",
    "from torch import optim\n",
    "import torchvision\n",
    "import torchvision.transforms as transforms\n",
    "from torch.utils.data import Dataset,DataLoader,ConcatDataset\n",
    "\n",
    "device = torch.device('cuda' if torch.cuda.is_available() else 'cpu')\n",
    "device"
   ]
  },
  {
   "cell_type": "code",
   "execution_count": 3,
   "id": "26fcefb0-0983-4522-95cb-5dc757ec384a",
   "metadata": {},
   "outputs": [],
   "source": [
    "# argparse \n",
    "model_3d = \"dennis2\"\n",
    "transform = transforms.ToTensor()\n",
    "train_dataset = FashionDataset(model=model_3d,data=\"train\")\n",
    "train_pipeline = FashionPipeline(train_dataset,nC=NUM_SAMPLES,near=near,far=far,rand=True)\n",
    "train_pipeline_loader = DataLoader(train_pipeline,batch_size=BATCH_SIZE,shuffle=True)"
   ]
  },
  {
   "cell_type": "code",
   "execution_count": 4,
   "id": "41c1f759-511d-4c90-a938-3f18411651ed",
   "metadata": {},
   "outputs": [
    {
     "data": {
      "text/plain": [
       "(16, 100, 100, 12, 5, 120000)"
      ]
     },
     "execution_count": 4,
     "metadata": {},
     "output_type": "execute_result"
    }
   ],
   "source": [
    "encode_dims,H,W,nC,BATCH_SIZE,num_pos"
   ]
  },
  {
   "cell_type": "code",
   "execution_count": 5,
   "id": "87a8566f-43f8-4bbf-bae3-e5977673a3c1",
   "metadata": {},
   "outputs": [],
   "source": [
    "torch.cuda.empty_cache()"
   ]
  },
  {
   "cell_type": "code",
   "execution_count": 6,
   "id": "dcda6489-2192-465b-bcf3-5c1de331abc9",
   "metadata": {},
   "outputs": [
    {
     "data": {
      "text/plain": [
       "(torch.Size([5, 100, 100, 3]),\n",
       " torch.Size([5, 120000, 99]),\n",
       " torch.Size([5, 100, 100, 12]))"
      ]
     },
     "execution_count": 6,
     "metadata": {},
     "output_type": "execute_result"
    }
   ],
   "source": [
    "image,rays_flat,t_vals = iter(train_pipeline_loader).next()\n",
    "image.shape,rays_flat.shape,t_vals.shape"
   ]
  },
  {
   "cell_type": "code",
   "execution_count": 7,
   "id": "548ed062-c0a6-42ae-8345-5e04f6cb7bd5",
   "metadata": {},
   "outputs": [
    {
     "data": {
      "text/plain": [
       "<matplotlib.image.AxesImage at 0x7f29e010dbe0>"
      ]
     },
     "execution_count": 7,
     "metadata": {},
     "output_type": "execute_result"
    },
    {
     "data": {
      "image/png": "[encoded data removed]",
      "text/plain": [
       "<Figure size 432x288 with 1 Axes>"
      ]
     },
     "metadata": {
      "needs_background": "light"
     },
     "output_type": "display_data"
    }
   ],
   "source": [
    "import matplotlib.pyplot as plt\n",
    "plt.imshow(image[0].detach().numpy())"
   ]
  },
  {
   "cell_type": "code",
   "execution_count": 8,
   "id": "b22bd4a9-f286-441c-af17-9e36055c5886",
   "metadata": {},
   "outputs": [],
   "source": [
    "net = Net(num_layers,num_pos,encode_dims).to(device)"
   ]
  },
  {
   "cell_type": "code",
   "execution_count": 9,
   "id": "886e098e-e0dc-4964-8db6-8dd1397b9dbb",
   "metadata": {},
   "outputs": [],
   "source": [
    "#  tensorboard --logdir=tensorboard \n",
    "step = 0\n",
    "LEARNING_RATE = 2e-4\n",
    "criterion = nn.MSELoss()\n",
    "optimizer = optim.Adam(net.parameters(),lr=LEARNING_RATE,betas=(0.5,0.999))\n",
    "net.train()\n",
    "do_train = True"
   ]
  },
  {
   "cell_type": "code",
   "execution_count": 10,
   "id": "9c0fa7c1-3c99-4962-ac40-c73c1953ffd9",
   "metadata": {},
   "outputs": [],
   "source": [
    "torch.cuda.empty_cache()"
   ]
  },
  {
   "cell_type": "code",
   "execution_count": 11,
   "id": "b9e14a92-24b2-4aca-a328-e32ea57b51cf",
   "metadata": {},
   "outputs": [
    {
     "name": "stdout",
     "output_type": "stream",
     "text": [
      "[1,    1] loss: 0.00055\n",
      "[2,    1] loss: 0.00048\n",
      "[3,    1] loss: 0.00046\n",
      "[4,    1] loss: 0.00047\n",
      "[5,    1] loss: 0.00048\n",
      "[6,    1] loss: 0.00047\n",
      "[7,    1] loss: 0.00047\n",
      "[8,    1] loss: 0.00047\n",
      "[9,    1] loss: 0.00047\n",
      "[10,    1] loss: 0.00047\n",
      "[11,    1] loss: 0.00047\n",
      "[12,    1] loss: 0.00045\n",
      "[13,    1] loss: 0.00045\n",
      "[14,    1] loss: 0.00045\n",
      "[15,    1] loss: 0.00046\n",
      "[16,    1] loss: 0.00045\n",
      "[17,    1] loss: 0.00046\n",
      "[18,    1] loss: 0.00045\n",
      "[19,    1] loss: 0.00046\n",
      "[20,    1] loss: 0.00045\n",
      "[21,    1] loss: 0.00045\n",
      "[22,    1] loss: 0.00044\n",
      "[23,    1] loss: 0.00043\n",
      "[24,    1] loss: 0.00046\n",
      "[25,    1] loss: 0.00045\n",
      "[26,    1] loss: 0.00044\n",
      "[27,    1] loss: 0.00044\n",
      "[28,    1] loss: 0.00047\n",
      "[29,    1] loss: 0.00046\n",
      "[30,    1] loss: 0.00046\n",
      "[31,    1] loss: 0.00044\n",
      "[32,    1] loss: 0.00042\n",
      "[33,    1] loss: 0.00047\n",
      "[34,    1] loss: 0.00044\n",
      "[35,    1] loss: 0.00045\n",
      "[36,    1] loss: 0.00047\n",
      "[37,    1] loss: 0.00044\n",
      "[38,    1] loss: 0.00045\n",
      "[39,    1] loss: 0.00046\n",
      "[40,    1] loss: 0.00045\n",
      "[41,    1] loss: 0.00043\n",
      "[42,    1] loss: 0.00044\n",
      "[43,    1] loss: 0.00042\n",
      "[44,    1] loss: 0.00046\n",
      "[45,    1] loss: 0.00044\n",
      "[46,    1] loss: 0.00044\n",
      "[47,    1] loss: 0.00046\n",
      "[48,    1] loss: 0.00044\n",
      "[49,    1] loss: 0.00042\n",
      "[50,    1] loss: 0.00044\n",
      "[51,    1] loss: 0.00044\n",
      "[52,    1] loss: 0.00045\n",
      "[53,    1] loss: 0.00046\n",
      "[54,    1] loss: 0.00043\n",
      "[55,    1] loss: 0.00044\n",
      "[56,    1] loss: 0.00042\n",
      "[57,    1] loss: 0.00046\n",
      "[58,    1] loss: 0.00043\n",
      "[59,    1] loss: 0.00044\n",
      "[60,    1] loss: 0.00043\n",
      "[61,    1] loss: 0.00043\n",
      "[62,    1] loss: 0.00041\n",
      "[63,    1] loss: 0.00044\n",
      "[64,    1] loss: 0.00044\n",
      "[65,    1] loss: 0.00043\n",
      "[66,    1] loss: 0.00041\n",
      "[67,    1] loss: 0.00043\n",
      "[68,    1] loss: 0.00044\n",
      "[69,    1] loss: 0.00044\n",
      "[70,    1] loss: 0.00041\n",
      "[71,    1] loss: 0.00041\n",
      "[72,    1] loss: 0.00044\n",
      "[73,    1] loss: 0.00043\n",
      "[74,    1] loss: 0.00045\n",
      "[75,    1] loss: 0.00043\n",
      "[76,    1] loss: 0.00041\n",
      "[77,    1] loss: 0.00044\n",
      "[78,    1] loss: 0.00045\n",
      "[79,    1] loss: 0.00044\n",
      "[80,    1] loss: 0.00041\n",
      "[81,    1] loss: 0.00042\n",
      "[82,    1] loss: 0.00040\n",
      "[83,    1] loss: 0.00041\n",
      "[84,    1] loss: 0.00043\n",
      "[85,    1] loss: 0.00041\n",
      "[86,    1] loss: 0.00042\n",
      "[87,    1] loss: 0.00043\n",
      "[88,    1] loss: 0.00045\n",
      "[89,    1] loss: 0.00040\n",
      "[90,    1] loss: 0.00046\n",
      "[91,    1] loss: 0.00042\n",
      "[92,    1] loss: 0.00039\n",
      "[93,    1] loss: 0.00043\n",
      "[94,    1] loss: 0.00042\n",
      "[95,    1] loss: 0.00039\n",
      "[96,    1] loss: 0.00043\n",
      "[97,    1] loss: 0.00044\n",
      "[98,    1] loss: 0.00043\n",
      "[99,    1] loss: 0.00042\n",
      "[100,    1] loss: 0.00040\n",
      "=> Saving checkpoint\n",
      "Finished traning\n"
     ]
    }
   ],
   "source": [
    "if do_train:\n",
    "    for epoch in range(EPOCHS):\n",
    "        running_loss = 0\n",
    "        for batch_idx,data in enumerate(train_pipeline_loader):\n",
    "            image,rays_flat,t_vals = data\n",
    "            rays_flat = rays_flat.to(device,torch.float32)\n",
    "            t_vals = t_vals.to(device,torch.float32)\n",
    "            image = image.to(device)\n",
    "            rgb,_ = render_rgb_depth(net,rays_flat,t_vals,device,rand=rand,train=True)\n",
    "            optimizer.zero_grad()\n",
    "            loss = criterion(image.permute(0,3,1,2),rgb.permute(0,3,1,2))\n",
    "            loss.backward()\n",
    "            optimizer.step()\n",
    "\n",
    "            running_loss += loss.item()\n",
    "            if batch_idx%20 == 0:\n",
    "                print(f\"[{epoch+1},{batch_idx+1:5d}] loss: {running_loss/85:.5f}\")\n",
    "                with torch.no_grad():\n",
    "                    rgb, _ = render_rgb_depth(net,rays_flat,t_vals,device,rand=rand,train=True)\n",
    "                    img_grid_real = torchvision.utils.make_grid(image.permute(0,3,1,2)[:4],normalize=True)\n",
    "                    img_grid_rgb = torchvision.utils.make_grid(rgb.permute(0,3,1,2)[:4],normalize=True)\n",
    "                    writer_nerf.add_scalar('training loss',loss,epoch*len(train_pipeline_loader)+batch_idx)\n",
    "                    writer_real.add_image('Real',img_grid_real,global_step=step)\n",
    "                    writer_nerf.add_image('Nerf',img_grid_rgb,global_step=step)\n",
    "                step += 1\n",
    "    checkpoint = {'state_dict':net.state_dict(),'optimizer':optimizer.state_dict()}    \n",
    "    save_checkpoint(checkpoint)\n",
    "    print(\"Finished traning\")"
   ]
  },
  {
   "cell_type": "code",
   "execution_count": null,
   "id": "dc2ac608-13c3-497b-8934-2cdb3f870eb3",
   "metadata": {},
   "outputs": [],
   "source": []
  },
  {
   "cell_type": "code",
   "execution_count": null,
   "id": "aea7b4e1-e5ee-4541-8a59-e020ffad354d",
   "metadata": {},
   "outputs": [],
   "source": []
  }
 ],
 "metadata": {
  "kernelspec": {
   "display_name": "FashionNeRF",
   "language": "python",
   "name": "fashionnerf"
  },
  "language_info": {
   "codemirror_mode": {
    "name": "ipython",
    "version": 3
   },
   "file_extension": ".py",
   "mimetype": "text/x-python",
   "name": "python",
   "nbconvert_exporter": "python",
   "pygments_lexer": "ipython3",
   "version": "3.9.12"
  }
 },
 "nbformat": 4,
 "nbformat_minor": 5
}
