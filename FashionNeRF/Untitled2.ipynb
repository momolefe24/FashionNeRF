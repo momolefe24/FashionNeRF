{
 "cells": [
  {
   "cell_type": "code",
   "execution_count": 1,
   "id": "1ac4bbc7-c7b6-4a88-8080-e65a341db69e",
   "metadata": {},
   "outputs": [
    {
     "name": "stdout",
     "output_type": "stream",
     "text": [
      "config:  /mnt/d/Playground/Research/Synthesising Virtual Fashion Try-On with Neural Radiance Fields/FashionNeRF\n"
     ]
    },
    {
     "name": "stderr",
     "output_type": "stream",
     "text": [
      "ERROR:root:/mnt/d/Playground/Research/Synthesising Virtual Fashion Try-On with Neural Radiance Fields/Results does not exist.\n",
      "ERROR:root:/mnt/d/Playground/Research/Synthesising Virtual Fashion Try-On with Neural Radiance Fields/Dataset does not exist.\n"
     ]
    },
    {
     "data": {
      "text/plain": [
       "device(type='cuda')"
      ]
     },
     "execution_count": 1,
     "metadata": {},
     "output_type": "execute_result"
    }
   ],
   "source": [
    "from config import *\n",
    "from datasets import FashionDataset, FashionPipeline\n",
    "from utils import *\n",
    "from model import *\n",
    "import torch\n",
    "import matplotlib.pyplot as plts\n",
    "from torch import optim\n",
    "import torchvision\n",
    "import torchvision.transforms as transforms\n",
    "from torch.utils.data import Dataset,DataLoader,ConcatDataset\n",
    "\n",
    "device = torch.device('cuda' if torch.cuda.is_available() else 'cpu')\n",
    "device"
   ]
  },
  {
   "cell_type": "code",
   "execution_count": 2,
   "id": "2b2f8f40-1da3-4da7-9997-19e027961eac",
   "metadata": {},
   "outputs": [],
   "source": [
    "# argparse \n",
    "model_3d = \"dennis3\"\n",
    "transform = transforms.ToTensor()\n",
    "train_dataset = FashionDataset(model=model_3d,data=\"test\")\n",
    "mask_dataset = FashionDataset(model=model_3d,data=\"test\",type=\"depth\")\n"
   ]
  },
  {
   "cell_type": "code",
   "execution_count": 3,
   "id": "18385431-9a65-487e-a0a3-3a1023b70e57",
   "metadata": {},
   "outputs": [
    {
     "data": {
      "text/plain": [
       "(40, 40)"
      ]
     },
     "execution_count": 3,
     "metadata": {},
     "output_type": "execute_result"
    }
   ],
   "source": [
    "train_dataset.__len__(),mask_dataset.__len__()"
   ]
  },
  {
   "cell_type": "code",
   "execution_count": 6,
   "id": "50f94da0-d1e5-496d-a710-3f542872663b",
   "metadata": {},
   "outputs": [],
   "source": [
    "i0,r0 = train_dataset.__getitem__(0)"
   ]
  },
  {
   "cell_type": "code",
   "execution_count": 7,
   "id": "62c14653-6931-4531-9863-22c892001cde",
   "metadata": {},
   "outputs": [],
   "source": [
    "i1,r1 = mask_dataset.__getitem__(0)"
   ]
  },
  {
   "cell_type": "code",
   "execution_count": 13,
   "id": "16642664-b917-4a7c-8c3a-04ca15a41e0a",
   "metadata": {},
   "outputs": [
    {
     "data": {
      "text/plain": [
       "(torch.Size([100, 100, 3]), torch.Size([100, 100, 1]))"
      ]
     },
     "execution_count": 13,
     "metadata": {},
     "output_type": "execute_result"
    }
   ],
   "source": [
    "i0.shape,i1.shape"
   ]
  },
  {
   "cell_type": "code",
   "execution_count": 9,
   "id": "3e5c7d88-6392-488a-a993-4838d9a77605",
   "metadata": {},
   "outputs": [],
   "source": [
    "import matplotlib.pyplot as plt"
   ]
  },
  {
   "cell_type": "code",
   "execution_count": 11,
   "id": "81a8ea80-44e9-4d67-96dc-af8e57e6244e",
   "metadata": {},
   "outputs": [
    {
     "data": {
      "text/plain": [
       "<matplotlib.image.AxesImage at 0x7fc55c4698e0>"
      ]
     },
     "execution_count": 11,
     "metadata": {},
     "output_type": "execute_result"
    },
    {
     "data": {
      "image/png": "[encoded data removed]",
      "text/plain": [
       "<Figure size 432x288 with 1 Axes>"
      ]
     },
     "metadata": {
      "needs_background": "light"
     },
     "output_type": "display_data"
    }
   ],
   "source": [
    "plt.imshow(i0,cmap='gray')"
   ]
  },
  {
   "cell_type": "code",
   "execution_count": 12,
   "id": "f66511b7-e8a6-4a5b-9ec6-98c5297f633b",
   "metadata": {},
   "outputs": [
    {
     "data": {
      "text/plain": [
       "<matplotlib.image.AxesImage at 0x7fc55c2be190>"
      ]
     },
     "execution_count": 12,
     "metadata": {},
     "output_type": "execute_result"
    },
    {
     "data": {
      "image/png": "[encoded data removed]",
      "text/plain": [
       "<Figure size 432x288 with 1 Axes>"
      ]
     },
     "metadata": {
      "needs_background": "light"
     },
     "output_type": "display_data"
    }
   ],
   "source": [
    "plt.imshow(i1,cmap='gray')"
   ]
  },
  {
   "cell_type": "code",
   "execution_count": null,
   "id": "3d4ea14e-1e16-486a-bab1-bd8beebc4cc0",
   "metadata": {},
   "outputs": [],
   "source": [
    "train_pipeline = FashionPipeline(train_dataset,nC=NUM_SAMPLES,near=near,far=far,rand=True)\n",
    "train_pipeline_loader = DataLoader(train_pipeline,batch_size=BATCH_SIZE,shuffle=True)"
   ]
  },
  {
   "cell_type": "code",
   "execution_count": 3,
   "id": "3036d4d1-5992-4e52-aad2-7e15be4799cd",
   "metadata": {},
   "outputs": [
    {
     "data": {
      "text/plain": [
       "(16, 100, 100, 12, 5, 120000)"
      ]
     },
     "execution_count": 3,
     "metadata": {},
     "output_type": "execute_result"
    }
   ],
   "source": [
    "encode_dims,H,W,nC,BATCH_SIZE,num_pos"
   ]
  },
  {
   "cell_type": "code",
   "execution_count": 4,
   "id": "9809bd1f-cc5d-419e-b802-6670f295f92f",
   "metadata": {},
   "outputs": [],
   "source": [
    "torch.cuda.empty_cache()"
   ]
  },
  {
   "cell_type": "code",
   "execution_count": 5,
   "id": "6a704193-bff9-4709-a639-a250d5bc32ef",
   "metadata": {},
   "outputs": [
    {
     "data": {
      "text/plain": [
       "(torch.Size([5, 100, 100, 3]),\n",
       " torch.Size([5, 120000, 99]),\n",
       " torch.Size([5, 100, 100, 12]))"
      ]
     },
     "execution_count": 5,
     "metadata": {},
     "output_type": "execute_result"
    }
   ],
   "source": [
    "image,rays_flat,t_vals = iter(train_pipeline_loader).next()\n",
    "image.shape,rays_flat.shape,t_vals.shape"
   ]
  },
  {
   "cell_type": "code",
   "execution_count": 50,
   "id": "2ec7c981-dfe3-4e0d-b182-01de7126e288",
   "metadata": {},
   "outputs": [],
   "source": [
    "img = image[0][:,:,1].detach().numpy()"
   ]
  },
  {
   "cell_type": "code",
   "execution_count": 51,
   "id": "09c123ab-44a4-45a9-8f2e-a879a67d3d9f",
   "metadata": {},
   "outputs": [],
   "source": [
    "z = img.copy()"
   ]
  },
  {
   "cell_type": "code",
   "execution_count": 52,
   "id": "19b1ada2-67e2-4057-84e9-439c60193ed2",
   "metadata": {},
   "outputs": [],
   "source": [
    "mask_ind = (img != 0)\n",
    "z[mask_ind] = 1"
   ]
  },
  {
   "cell_type": "code",
   "execution_count": 53,
   "id": "176b6eb8-4b55-478e-8493-578e0fcef64b",
   "metadata": {},
   "outputs": [
    {
     "data": {
      "text/plain": [
       "<matplotlib.image.AxesImage at 0x7f78dab9f880>"
      ]
     },
     "execution_count": 53,
     "metadata": {},
     "output_type": "execute_result"
    },
    {
     "data": {
      "image/png": "[encoded data removed]",
      "text/plain": [
       "<Figure size 432x288 with 1 Axes>"
      ]
     },
     "metadata": {
      "needs_background": "light"
     },
     "output_type": "display_data"
    }
   ],
   "source": [
    "plt.imshow(z,cmap='gray')"
   ]
  },
  {
   "cell_type": "code",
   "execution_count": null,
   "id": "1a9a2c4b-39d3-4cfe-94c6-d4ffe8f95556",
   "metadata": {},
   "outputs": [],
   "source": []
  }
 ],
 "metadata": {
  "kernelspec": {
   "display_name": "pytorch3d",
   "language": "python",
   "name": "pytorch3d"
  },
  "language_info": {
   "codemirror_mode": {
    "name": "ipython",
    "version": 3
   },
   "file_extension": ".py",
   "mimetype": "text/x-python",
   "name": "python",
   "nbconvert_exporter": "python",
   "pygments_lexer": "ipython3",
   "version": "3.9.12"
  }
 },
 "nbformat": 4,
 "nbformat_minor": 5
}
